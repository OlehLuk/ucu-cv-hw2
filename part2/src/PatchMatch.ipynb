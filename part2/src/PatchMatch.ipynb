{
 "cells": [
  {
   "cell_type": "code",
   "execution_count": 6,
   "metadata": {},
   "outputs": [],
   "source": [
    "import numpy as np\n",
    "import cv2\n",
    "import matplotlib.pyplot as plt\n",
    "\n",
    "%matplotlib inline"
   ]
  },
  {
   "cell_type": "code",
   "execution_count": 27,
   "metadata": {},
   "outputs": [],
   "source": [
    "def compare_matches(img1, img2, center1, center2, patch_size=11):\n",
    "    # TO DO: fix index out of img size\n",
    "    height, width = img1.shape\n",
    "    patch_half_size = patch_size // 2\n",
    "    \n",
    "    patch_1 = img1[center1[1]-patch_half_size:center1[1]+patch_half_size:]\\\n",
    "        [center1[0]-patch_half_size:center1[0]+patch_half_size:]\n",
    "    patch_2 = img2[center2[1]-patch_half_size:center2[1]+patch_half_size:]\\\n",
    "        [center2[0]-patch_half_size:center2[0]+patch_half_size:]\n",
    "    # assume everything is fine with patch\n",
    "    \n",
    "    return np.sum((patch_1-patch_2)**2)    \n",
    "        \n",
    "def patch_match(img1, img2, patch_size=11):\n",
    "    height, width = img1.shape\n",
    "    # create random ofset with the shape h*w*2 (dy,dx)\n",
    "    match_x = np.random.randint(0, width, size=(height,width))\n",
    "    match_y = np.random.randint(0, height, size=(height,width))\n",
    "    \n",
    "    iteration = 0\n",
    "    \n",
    "    while iteration<6:\n",
    "        # choose direction of propagation\n",
    "        if iteration % 2 == 0:\n",
    "            iter_i = range(height)\n",
    "            iter_j = range(width)\n",
    "            edge_i = 0\n",
    "            edge_j = 0\n",
    "            delta = -1\n",
    "        else:\n",
    "            iter_i = range(height-1, -1, -1)\n",
    "            iter_j = range(width-1, -1, -1)\n",
    "            edge_i = height-1\n",
    "            edge_j = width-1\n",
    "            delta = 1\n",
    "           \n",
    "        # propagate\n",
    "        for i in iter_i:\n",
    "            for j in iter_j:\n",
    "                current_x, current_y = match_x[i][j], match_y[i][j]\n",
    "                candidates = [[current_x, current_y]]\n",
    "                if i != edge_i:\n",
    "                    candidates.append(match_x[i+delta][j], match_y[i+delta][j])\n",
    "                if j != edge_j:\n",
    "                    candidates.append(match_x[i][j+delta], match_y[i][j+delta])\n",
    "                if len(candidates) == 1:\n",
    "                    continue\n",
    "\n",
    "                distances = [compare_matches(img1, img2, [i, j], candidates[k], patch_size) for k in range(len(candidates))]\n",
    "                min_dist_index = np.argmin(distances)\n",
    "                top_candidate = candidates[min_dist_index]\n",
    "\n",
    "                match_x[i][j] = top_candidate[0]\n",
    "                match_y[i][j] = top_candidate[1]        \n",
    "        \n",
    "                # random search around\n",
    "                wa_x = width // 2\n",
    "                wa_y = height // 2\n",
    "                \n",
    "                while wa_x >= 1 and wa_y >= 1:\n",
    "                    deltas = [-1,1] \n",
    "                    candidate_x = current_x + wa_x * deltas[np.randint(0,2)]\n",
    "                    candidate_y = current_y + wa_y * deltas[np.randint(0,2)]\n",
    "                    \n",
    "                    candidate_x = candidate_x % width\n",
    "                    candidate_y = candidate_y % height\n",
    "                    \n",
    "                    distance = compare_matches(img1, img2, [i, j], [candidate_x, candidate_y], patch_size)\n",
    "                    if distance < distances[0]:\n",
    "                        match_x[i][j] = candidate_x\n",
    "                        match_y[i][j] = candidate_y   \n",
    "                    \n",
    "                    wa_x = wa_x // 2\n",
    "                    wa_y = wa_y // 2\n",
    "        \n",
    "        iteration += 1\n",
    "    \n",
    "    return match_x, match_y"
   ]
  },
  {
   "cell_type": "code",
   "execution_count": 30,
   "metadata": {},
   "outputs": [],
   "source": [
    "a = np.array([[ 0,  1,  2],\n",
    "        [ 3,  4,  5],\n",
    "        [ 6,  7,  8]])\n",
    "\n",
    "b = np.array([[ 2,  1,  2],\n",
    "        [ 3,  4,  5],\n",
    "        [ 6,  7,  8]])"
   ]
  },
  {
   "cell_type": "code",
   "execution_count": 31,
   "metadata": {},
   "outputs": [
    {
     "data": {
      "text/plain": [
       "4"
      ]
     },
     "execution_count": 31,
     "metadata": {},
     "output_type": "execute_result"
    }
   ],
   "source": [
    "compare_matches(a,b, [1,1], [1,1], 3)"
   ]
  },
  {
   "cell_type": "code",
   "execution_count": null,
   "metadata": {},
   "outputs": [],
   "source": []
  }
 ],
 "metadata": {
  "kernelspec": {
   "display_name": "Python 3",
   "language": "python",
   "name": "python3"
  },
  "language_info": {
   "codemirror_mode": {
    "name": "ipython",
    "version": 3
   },
   "file_extension": ".py",
   "mimetype": "text/x-python",
   "name": "python",
   "nbconvert_exporter": "python",
   "pygments_lexer": "ipython3",
   "version": "3.6.8"
  }
 },
 "nbformat": 4,
 "nbformat_minor": 2
}
